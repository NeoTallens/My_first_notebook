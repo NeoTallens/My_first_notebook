{
 "cells": [
  {
   "cell_type": "markdown",
   "id": "7622b1e8-315c-4e4d-95a0-e3dfb400c593",
   "metadata": {},
   "source": [
    "# Data Science Tool and Ecosystem"
   ]
  },
  {
   "cell_type": "markdown",
   "id": "612b2bd7-0f0a-43ee-9226-c7ea498b127a",
   "metadata": {},
   "source": [
    "#### In this notebook, Data Science and Tools are summarized."
   ]
  },
  {
   "cell_type": "markdown",
   "id": "2f723cb0-b591-4088-8fd7-cf03d5e88cb3",
   "metadata": {},
   "source": [
    "#### **Objectives:**\n",
    "+ Review Lanaguages\n",
    "+ Review Libraries\n",
    "+ Review Tools\n",
    "+ Review Arithmetic Expressions in Python\n"
   ]
  },
  {
   "cell_type": "markdown",
   "id": "a533d1f5-8e95-47cd-9896-984b42d56d88",
   "metadata": {
    "jp-MarkdownHeadingCollapsed": true
   },
   "source": [
    "#### Some of the popular languages that data Scientists  use are:\n",
    "1. R\n",
    "2. Phyton\n",
    "3. Java Script\n",
    "4. SQl\n",
    "5. C++\n"
   ]
  },
  {
   "cell_type": "markdown",
   "id": "577242e6-1de5-437e-ba17-8803b0b3fe06",
   "metadata": {},
   "source": [
    "#### Some of the commonly used libraries used by Data Scientists include:\n",
    "\n",
    "* numpy for computation\n",
    "\n",
    "* ggplot for data visualization\n",
    "\n",
    "* dplyr  for data manipulation\n",
    "\n",
    "* pandas for data manipulation\n",
    "\n",
    "* matplotlib for data visualization\n",
    "\n",
    "* seaborn for data visualization\n",
    "\n",
    "* plotly for data visualization\n",
    "\n",
    "* scikit-learn for machine learning\n",
    "\n",
    "* tensorflow for numerical computation"
   ]
  },
  {
   "cell_type": "markdown",
   "id": "7d2002f4-e151-4254-ab56-5ec304a27bac",
   "metadata": {},
   "source": [
    "### Data Science Tools. ###\n",
    "\n",
    " 1. |Pandas Seaborn|\n",
    " 2. |Scikit-learn|\n",
    " 3. |JupyterNotebooksTensorFlow|\n",
    " 4. |Apache Sparks|\n",
    " 5. |Matplotlib|\n"
   ]
  },
  {
   "cell_type": "markdown",
   "id": "b65052ac-05fe-4f6f-b0df-a434517422f9",
   "metadata": {},
   "source": [
    "### Below are a few examples of evaluating arithmetic expressions in Python \n",
    "\n"
   ]
  },
  {
   "cell_type": "code",
   "execution_count": 51,
   "id": "29659c21-30ce-49f8-9dcb-acf6fb42164f",
   "metadata": {},
   "outputs": [
    {
     "data": {
      "text/plain": [
       "17"
      ]
     },
     "execution_count": 51,
     "metadata": {},
     "output_type": "execute_result"
    }
   ],
   "source": [
    "#This a simple arithmetic expression to mutiply then add integers\n",
    "(3*4)+5  "
   ]
  },
  {
   "cell_type": "code",
   "execution_count": 53,
   "id": "d1d70fa1-6b21-4404-be48-12b143f57cf8",
   "metadata": {},
   "outputs": [
    {
     "data": {
      "text/plain": [
       "3.3333333333333335"
      ]
     },
     "execution_count": 53,
     "metadata": {},
     "output_type": "execute_result"
    }
   ],
   "source": [
    "#This will convert 200 minutes to hours by diving by 60\n",
    "200/60"
   ]
  },
  {
   "cell_type": "markdown",
   "id": "b5c72346-dd7b-49b7-b41f-835ef958755a",
   "metadata": {},
   "source": [
    "## Author\n",
    "Yael Jesus Israel Torres\n"
   ]
  }
 ],
 "metadata": {
  "kernelspec": {
   "display_name": "Python 3 (ipykernel)",
   "language": "python",
   "name": "python3"
  },
  "language_info": {
   "codemirror_mode": {
    "name": "ipython",
    "version": 3
   },
   "file_extension": ".py",
   "mimetype": "text/x-python",
   "name": "python",
   "nbconvert_exporter": "python",
   "pygments_lexer": "ipython3",
   "version": "3.12.4"
  }
 },
 "nbformat": 4,
 "nbformat_minor": 5
}
